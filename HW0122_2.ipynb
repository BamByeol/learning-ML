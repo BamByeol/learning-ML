{
  "nbformat": 4,
  "nbformat_minor": 0,
  "metadata": {
    "colab": {
      "name": "HW0122_2.ipynb",
      "private_outputs": true,
      "provenance": [],
      "collapsed_sections": [],
      "authorship_tag": "ABX9TyPnMlPnbi1baERy6IhhbeBl",
      "include_colab_link": true
    },
    "kernelspec": {
      "name": "python3",
      "display_name": "Python 3"
    },
    "language_info": {
      "name": "python"
    }
  },
  "cells": [
    {
      "cell_type": "markdown",
      "metadata": {
        "id": "view-in-github",
        "colab_type": "text"
      },
      "source": [
        "<a href=\"https://colab.research.google.com/github/BamByeol/learning-ML/blob/HW220122/HW0122_2.ipynb\" target=\"_parent\"><img src=\"https://colab.research.google.com/assets/colab-badge.svg\" alt=\"Open In Colab\"/></a>"
      ]
    },
    {
      "cell_type": "code",
      "execution_count": null,
      "metadata": {
        "id": "pZ_ppkNWhukD"
      },
      "outputs": [],
      "source": [
        "# <과제1 - 모델 평가 & 분석> => Multi Linear regression\n",
        "# 주제 : 당뇨병 진행도 예측"
      ]
    },
    {
      "cell_type": "code",
      "source": [
        "#필요한 패키지들\n",
        "import torch\n",
        "import torch.nn as nn\n",
        "\n",
        "from torch import nn # pytorch 네트워크\n",
        "import torch.nn.functional as F\n",
        "\n",
        "#그래프를 그리기 위한 패키지\n",
        "import numpy as np\n",
        "import pandas as pd\n",
        "import seaborn as sns\n",
        "import matplotlib.pyplot as plt\n",
        "\n",
        "#학습데이터를 위한 패키지\n",
        "from torch.utils.data import TensorDataset\n",
        "from torch.utils.data import DataLoader\n",
        "\n",
        "#pytorch와 비교해볼 scikit-learn 패키지\n",
        "from sklearn import linear_model\n",
        "from sklearn.model_selection import train_test_split\n",
        "\n",
        "from torchvision import models"
      ],
      "metadata": {
        "id": "1h4qKKh8aitX"
      },
      "execution_count": null,
      "outputs": []
    },
    {
      "cell_type": "markdown",
      "source": [
        ""
      ],
      "metadata": {
        "id": "0G_Osd3PxEOv"
      }
    },
    {
      "cell_type": "code",
      "source": [
        "#자료출처 : scikit-learn 패키지 제공\n",
        "#442명의 당뇨병 환자를 대상으로 한 검사 결과 / 10종류의 독립변수 / 종속변수 : 1년뒤 측정한 당뇨병의 진행률\n",
        "from sklearn.datasets import load_diabetes\n",
        "diabetes = load_diabetes()\n",
        "df = pd.DataFrame(diabetes.data, columns=diabetes.feature_names)\n",
        "df[\"target\"] = diabetes.target\n",
        "df.tail()\n",
        "\n",
        "#데이터 시각화\n",
        "#sns.pairplot(df[[\"target\", \"bmi\", \"bp\", \"s1\",\"age\",\"sex\"]]) #산점도그래프를 봤는데 사실 나는 어떤 독립변수 간의 상관관계를 찾기가 어려워보인다..블로그에서는 BMI와 평균혈압이 서로 양의 상관관계가 있고 종속변수인 당뇨병진행도와 양의 상관관계가 있다고 했으니 두 독립변수만 사용하겠다.\n",
        "#plt.show()\n",
        "\n",
        "#데이터 전처리 - 칼럼\n",
        "df = df.drop(columns=[\"age\",\"sex\",\"s1\",\"s2\",\"s3\",\"s4\",\"s5\",\"s6\"]) #필요없는 칼럼 삭제\n",
        "df.columns\n",
        "\n",
        "#result\n",
        "#Index(['bmi', 'bp', 'target'], dtype='object')\n",
        "\n",
        "#데이터 전처리 - null\n",
        "print(df.isnull().sum())\n",
        "\n",
        "#result\n",
        "#bmi 0\n",
        "#bp 0\n",
        "#target 0\n",
        "#dtype: int64\n",
        "\n",
        "#데이터 전처리 - 데이터 세트 분리\n",
        "train,test = train_test_split(df, test_size = 0.2)\n",
        "\n",
        "x_train_1 = torch.Tensor([[x] for x in list(train.bmi)])\n",
        "x_train_2 = torch.Tensor([[x] for x in list(train.bp)])\n",
        "x_train = torch.cat([x_train_1,x_train_2],dim = 1)\n",
        "\n",
        "y_train = torch.Tensor([[x] for x in list(train.target)])\n",
        "\n",
        "train_data = TensorDataset(x_train, y_train)\n",
        "\n",
        "batch_size = len(x_train)\n",
        "train_dl = DataLoader(train_data, batch_size, shuffle=True)"
      ],
      "metadata": {
        "id": "3Lb-oQ2vkGfF"
      },
      "execution_count": null,
      "outputs": []
    },
    {
      "cell_type": "code",
      "source": [
        "#다중선형회귀 모델 생성\n",
        "model = nn.Linear(2,1)\n",
        "print(list(model.parameters()))\n",
        "\n",
        "cost = nn.MSELoss()\n",
        "optimizer = torch.optim.SGD(model.parameters(), lr=0.01) #SGD 경사하강법의 일종\n",
        "\n",
        "def multimodel(epochs, model, cost_fn, optimizer, train_dl):\n",
        "    for epoch in range(epochs):\n",
        "        for xb, yb in train_dl:\n",
        "            pred = model(xb)\n",
        "            cost = F.mse_loss(pred, yb)\n",
        "\n",
        "            optimizer.zero_grad()\n",
        "            cost.backward()\n",
        "            optimizer.step()\n",
        "\n",
        "        print('Epoch [{}/{}], Cost: {:.4f}'.format(epoch+1, epochs, cost.item()))\n",
        "\n",
        "epochs=1000\n",
        "multimodel(epochs, model, cost, optimizer, train_dl)"
      ],
      "metadata": {
        "id": "U4kRzDXzuryL"
      },
      "execution_count": null,
      "outputs": []
    },
    {
      "cell_type": "code",
      "source": [
        "#데이터시각화\n",
        "#독립변수가 2개라서 평면 그래프가 아니라 3차원그래프를 그려야 할 것 같음...qwq\n",
        "\n",
        "#model summary\n",
        "#model = models.vgg16()\n",
        "#print(model)\n"
      ],
      "metadata": {
        "id": "WdIOjk4mlX9K"
      },
      "execution_count": null,
      "outputs": []
    },
    {
      "cell_type": "code",
      "source": [
        "# w와 b의 값 구하는 코드\n",
        "regr = linear_model.LinearRegression()\n",
        "x1 = df.bmi.values.reshape(-1,1)\n",
        "x2 = df.bp.values.reshape(-1,1)\n",
        "X = x1 + x2\n",
        "\n",
        "y = df.target.values.reshape(-1,1)\n",
        "\n",
        "regr.fit(X, y)\n",
        "print(regr.coef_[0])\n",
        "print(regr.intercept_)\n",
        "\n",
        "# 임의의 입력 [22, 90]를 선언\n",
        "new_var =  torch.FloatTensor([[22, 90]]) \n",
        "# 입력한 값 [22,90]에 대해서 예측값 y를 리턴받아서 pred_y에 저장\n",
        "pred_y = model(new_var) \n",
        "print(\"훈련 후 입력이 22,90일 때의 예측값 :\", pred_y)"
      ],
      "metadata": {
        "id": "GlBCrm86tkij"
      },
      "execution_count": null,
      "outputs": []
    },
    {
      "cell_type": "code",
      "source": [
        "# 학습을 바탕으로 테스트데이터를 사용하여 w와 b의 값을 찾기\n",
        "print(list(model.weight))\n",
        "print(model.bias)\n",
        "\n",
        "sns.pairplot(df[[\"target\", \"bmi\", \"bp\"]])\n",
        "plt.show()\n",
        "\n",
        "# 임의의 입력 [22, 90]를 선언\n",
        "new_var =  torch.FloatTensor([[22, 90]]) \n",
        "# 입력한 값 [22,90]에 대해서 예측값 y를 리턴받아서 pred_y에 저장\n",
        "pred_y = model(new_var) \n",
        "print(\"훈련 후 입력이 22,90일 때의 예측값 :\", pred_y)\n",
        "\n",
        "#result\n",
        "#466.4252\n",
        "#실제 데이터 값은 138인데 독립변수끼리 상관성이 있기 때문일까 학습이 이상하게 된 것 같음\n",
        "#실제 데이터 값을 볼 수 있는 txt 자료 ( https://www4.stat.ncsu.edu/~boos/var.select/diabetes.tab.txt )\n",
        "\n",
        "#error 0129\n",
        "#print(float(model.weight)) -> only one element tensors can be converted to Python scalars\n",
        "\n",
        "#두 독립변수의 데이터를 합쳤는데 왜 저따구인지 모르겠다. 같은 자료를 가지고 한 다른 블로그 ( https://cocoon1787.tistory.com/175 )를 보면\n",
        "#저사람도 loss 값을 약 3000까지 줄이긴 하셨는데 "
      ],
      "metadata": {
        "id": "UvWOlPGpSucQ"
      },
      "execution_count": null,
      "outputs": []
    }
  ]
}