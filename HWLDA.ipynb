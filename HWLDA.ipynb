{
  "nbformat": 4,
  "nbformat_minor": 0,
  "metadata": {
    "colab": {
      "private_outputs": true,
      "provenance": [],
      "authorship_tag": "ABX9TyMouGfoF5ZSpW0/sCj8AEjX",
      "include_colab_link": true
    },
    "kernelspec": {
      "name": "python3",
      "display_name": "Python 3"
    },
    "language_info": {
      "name": "python"
    }
  },
  "cells": [
    {
      "cell_type": "markdown",
      "metadata": {
        "id": "view-in-github",
        "colab_type": "text"
      },
      "source": [
        "<a href=\"https://colab.research.google.com/github/BamByeol/learning-ML/blob/main/HWLDA.ipynb\" target=\"_parent\"><img src=\"https://colab.research.google.com/assets/colab-badge.svg\" alt=\"Open In Colab\"/></a>"
      ]
    },
    {
      "cell_type": "code",
      "execution_count": null,
      "metadata": {
        "id": "XA7pKHouGgFA"
      },
      "outputs": [],
      "source": [
        "import numpy as np\n",
        "import matplotlib.pyplot as plt\n",
        "import pandas as pd\n",
        "\n",
        "from sklearn.datasets import load_wine #HW2 와인데이터\n",
        "wine = load_wine()\n",
        "\n",
        "df = pd.DataFrame(wine.data, columns=wine.feature_names)\n",
        "df['target'] = wine.target\n",
        "\n",
        "#from sklearn.preprocessing import StandardScaler\n",
        "#wine_scaled = StandardScaler().fit_transform(wine.data)\n",
        "#from sklearn.linear_model\n",
        "#lda = LinearDiscriminatAnalysis(n_components=2)\n",
        "#lda.fit(wine_scaled, wine.target)\n",
        "#wine_lda = lda.transform(wine_scaled)\n",
        "\n",
        "#df = pd.DataFrame(wine_lda, columns=['comp1', 'comp2'])\n",
        "#df['target'] = wine.target\n",
        "\n",
        "#markers = ['^', 'o']\n",
        "\n",
        "#for i, markers in enumerate(markers):\n",
        "#    x = df[df['target'] == i].iloc[:,0]\n",
        "#    y = df[df['target'] == i].iloc[:,1]\n",
        "#    plt.scatter(x,y, marker=marker, label=wine.target_name[i])\n",
        "#plt.legend()\n",
        "#plt.show()\n",
        "\n",
        "#- 정규화\n",
        "\n",
        "#- 차원 2개로 축소 (PCA, LDA 각각 수행)\n",
        "\n",
        "#- 결과를 차트로 표시\n",
        "\n",
        "#- 파이썬 코드와 차트 그림을 ZIP으로 묶어서 제출"
      ]
    },
    {
      "cell_type": "code",
      "source": [
        "df.head(5)\n",
        "# data, target 열 분리\n",
        "target = df['target']\n",
        "data = df.drop(['target'], axis=1, inplace=False)\n",
        "data.head(5)"
      ],
      "metadata": {
        "id": "g1DuCwPrGzly"
      },
      "execution_count": null,
      "outputs": []
    },
    {
      "cell_type": "code",
      "source": [
        "from sklearn.preprocessing import StandardScaler\n",
        "\n",
        "scaler = StandardScaler() # 표준 정규 분포로 변환\n",
        "data_scaled = scaler.fit_transform(data) # 스케일링\n",
        "from sklearn.discriminant_analysis import LinearDiscriminantAnalysis\n",
        "\n",
        "# LDA 2차원으로 축소\n",
        "lda = LinearDiscriminantAnalysis(n_components=2)\n",
        "lda.fit(data_scaled, target)\n",
        "data_lda = lda.transform(data_scaled)\n",
        "print(data_lda.shape)"
      ],
      "metadata": {
        "id": "nkQblAqqSA3_"
      },
      "execution_count": null,
      "outputs": []
    },
    {
      "cell_type": "code",
      "source": [
        "df_lda = pd.DataFrame(data_lda, columns=['Component1','Component2'])\n",
        "df_lda['target'] = target\n",
        "\n",
        "markers = ['^','s']\n",
        "\n",
        "for i,marker in enumerate(markers):\n",
        "    x_data = df_lda[df_lda['target'] == i]['Component1']\n",
        "    y_data = df_lda[df_lda['target'] == i]['Component2']\n",
        "    plt.scatter(x_data, y_data, marker=marker)\n",
        "# lda 출력\n",
        "plt.xlabel('Component1')\n",
        "plt.ylabel('Component2')\n",
        "plt.show()"
      ],
      "metadata": {
        "id": "amLG6dctTOGd"
      },
      "execution_count": null,
      "outputs": []
    }
  ]
}