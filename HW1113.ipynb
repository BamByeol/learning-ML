{
  "nbformat": 4,
  "nbformat_minor": 0,
  "metadata": {
    "colab": {
      "name": "HW1113.ipynb",
      "provenance": [],
      "mount_file_id": "1J8pAe7ySXgmv0Cwlm0CeqmySQYDPGcEY",
      "authorship_tag": "ABX9TyNypMKHagMyMPwhNmJKFtIT",
      "include_colab_link": true
    },
    "kernelspec": {
      "name": "python3",
      "display_name": "Python 3"
    },
    "language_info": {
      "name": "python"
    }
  },
  "cells": [
    {
      "cell_type": "markdown",
      "metadata": {
        "id": "view-in-github",
        "colab_type": "text"
      },
      "source": [
        "<a href=\"https://colab.research.google.com/github/BamByeol/learning-ML/blob/main/HW1113.ipynb\" target=\"_parent\"><img src=\"https://colab.research.google.com/assets/colab-badge.svg\" alt=\"Open In Colab\"/></a>"
      ]
    },
    {
      "cell_type": "code",
      "metadata": {
        "colab": {
          "base_uri": "https://localhost:8080/"
        },
        "id": "Dspa0hczmQgc",
        "outputId": "b431a1b2-1eff-4b9a-c99f-e55238f26eb1"
      },
      "source": [
        "#파일 직접 업로드하기\n",
        "from google.colab import drive\n",
        "drive.mount('/content/drive')"
      ],
      "execution_count": null,
      "outputs": [
        {
          "output_type": "stream",
          "name": "stdout",
          "text": [
            "Drive already mounted at /content/drive; to attempt to forcibly remount, call drive.mount(\"/content/drive\", force_remount=True).\n"
          ]
        }
      ]
    },
    {
      "cell_type": "code",
      "metadata": {
        "id": "edTj73junAXU"
      },
      "source": [
        "#불러올 파일의 경로를 filename 변수에 저장\n",
        "filename = '/content/drive/MyDrive/1113/economy.csv'"
      ],
      "execution_count": null,
      "outputs": []
    },
    {
      "cell_type": "code",
      "metadata": {
        "colab": {
          "base_uri": "https://localhost:8080/",
          "height": 312
        },
        "id": "WZi7xzrFnK00",
        "outputId": "c5a8bedb-cd10-4224-dc92-309171b989fb"
      },
      "source": [
        "#pandas read_csv로 불러오기\n",
        "data = pd.read_csv(filename)\n",
        "data.head()"
      ],
      "execution_count": null,
      "outputs": [
        {
          "output_type": "execute_result",
          "data": {
            "text/html": [
              "<div>\n",
              "<style scoped>\n",
              "    .dataframe tbody tr th:only-of-type {\n",
              "        vertical-align: middle;\n",
              "    }\n",
              "\n",
              "    .dataframe tbody tr th {\n",
              "        vertical-align: top;\n",
              "    }\n",
              "\n",
              "    .dataframe thead th {\n",
              "        text-align: right;\n",
              "    }\n",
              "</style>\n",
              "<table border=\"1\" class=\"dataframe\">\n",
              "  <thead>\n",
              "    <tr style=\"text-align: right;\">\n",
              "      <th></th>\n",
              "      <th>tradeprice_sido_n1</th>\n",
              "      <th>date</th>\n",
              "      <th>region_cd</th>\n",
              "      <th>tradeprice_sido</th>\n",
              "      <th>year</th>\n",
              "      <th>month</th>\n",
              "      <th>building_type</th>\n",
              "      <th>construction_realized_amount</th>\n",
              "      <th>cd</th>\n",
              "      <th>spirit_deposit_rate</th>\n",
              "      <th>exchange_rate</th>\n",
              "      <th>composite_stock_price_index</th>\n",
              "      <th>economy_growth</th>\n",
              "      <th>exchequer_bond_three</th>\n",
              "      <th>household_loan_all</th>\n",
              "      <th>mortgage_all</th>\n",
              "      <th>numberofnosells</th>\n",
              "      <th>unsalenum_c</th>\n",
              "    </tr>\n",
              "  </thead>\n",
              "  <tbody>\n",
              "    <tr>\n",
              "      <th>0</th>\n",
              "      <td>69.5</td>\n",
              "      <td>2006-01-01</td>\n",
              "      <td>48000</td>\n",
              "      <td>69.4</td>\n",
              "      <td>2006</td>\n",
              "      <td>1</td>\n",
              "      <td>0</td>\n",
              "      <td>4867793.0</td>\n",
              "      <td>4.15</td>\n",
              "      <td>4.06</td>\n",
              "      <td>971.0</td>\n",
              "      <td>1379.32</td>\n",
              "      <td>1.8</td>\n",
              "      <td>5.02</td>\n",
              "      <td>NaN</td>\n",
              "      <td>NaN</td>\n",
              "      <td>NaN</td>\n",
              "      <td>NaN</td>\n",
              "    </tr>\n",
              "    <tr>\n",
              "      <th>1</th>\n",
              "      <td>64.6</td>\n",
              "      <td>2006-01-01</td>\n",
              "      <td>48000</td>\n",
              "      <td>64.5</td>\n",
              "      <td>2006</td>\n",
              "      <td>1</td>\n",
              "      <td>1</td>\n",
              "      <td>4867793.0</td>\n",
              "      <td>4.15</td>\n",
              "      <td>4.06</td>\n",
              "      <td>971.0</td>\n",
              "      <td>1379.32</td>\n",
              "      <td>1.8</td>\n",
              "      <td>5.02</td>\n",
              "      <td>NaN</td>\n",
              "      <td>NaN</td>\n",
              "      <td>NaN</td>\n",
              "      <td>NaN</td>\n",
              "    </tr>\n",
              "    <tr>\n",
              "      <th>2</th>\n",
              "      <td>69.7</td>\n",
              "      <td>2006-01-01</td>\n",
              "      <td>47000</td>\n",
              "      <td>69.3</td>\n",
              "      <td>2006</td>\n",
              "      <td>1</td>\n",
              "      <td>1</td>\n",
              "      <td>4867793.0</td>\n",
              "      <td>4.15</td>\n",
              "      <td>4.06</td>\n",
              "      <td>971.0</td>\n",
              "      <td>1379.32</td>\n",
              "      <td>1.8</td>\n",
              "      <td>5.02</td>\n",
              "      <td>NaN</td>\n",
              "      <td>NaN</td>\n",
              "      <td>NaN</td>\n",
              "      <td>NaN</td>\n",
              "    </tr>\n",
              "    <tr>\n",
              "      <th>3</th>\n",
              "      <td>94.2</td>\n",
              "      <td>2006-01-01</td>\n",
              "      <td>45000</td>\n",
              "      <td>94.2</td>\n",
              "      <td>2006</td>\n",
              "      <td>1</td>\n",
              "      <td>7</td>\n",
              "      <td>4867793.0</td>\n",
              "      <td>4.15</td>\n",
              "      <td>4.06</td>\n",
              "      <td>971.0</td>\n",
              "      <td>1379.32</td>\n",
              "      <td>1.8</td>\n",
              "      <td>5.02</td>\n",
              "      <td>NaN</td>\n",
              "      <td>NaN</td>\n",
              "      <td>NaN</td>\n",
              "      <td>NaN</td>\n",
              "    </tr>\n",
              "    <tr>\n",
              "      <th>4</th>\n",
              "      <td>80.0</td>\n",
              "      <td>2006-01-01</td>\n",
              "      <td>48000</td>\n",
              "      <td>80.0</td>\n",
              "      <td>2006</td>\n",
              "      <td>1</td>\n",
              "      <td>7</td>\n",
              "      <td>4867793.0</td>\n",
              "      <td>4.15</td>\n",
              "      <td>4.06</td>\n",
              "      <td>971.0</td>\n",
              "      <td>1379.32</td>\n",
              "      <td>1.8</td>\n",
              "      <td>5.02</td>\n",
              "      <td>NaN</td>\n",
              "      <td>NaN</td>\n",
              "      <td>NaN</td>\n",
              "      <td>NaN</td>\n",
              "    </tr>\n",
              "  </tbody>\n",
              "</table>\n",
              "</div>"
            ],
            "text/plain": [
              "   tradeprice_sido_n1        date  ...  numberofnosells  unsalenum_c\n",
              "0                69.5  2006-01-01  ...              NaN          NaN\n",
              "1                64.6  2006-01-01  ...              NaN          NaN\n",
              "2                69.7  2006-01-01  ...              NaN          NaN\n",
              "3                94.2  2006-01-01  ...              NaN          NaN\n",
              "4                80.0  2006-01-01  ...              NaN          NaN\n",
              "\n",
              "[5 rows x 18 columns]"
            ]
          },
          "metadata": {},
          "execution_count": 28
        }
      ]
    },
    {
      "cell_type": "code",
      "metadata": {
        "colab": {
          "base_uri": "https://localhost:8080/",
          "height": 343
        },
        "id": "42hMic0wntlh",
        "outputId": "54a5e96f-6124-4612-c46d-6f8622acac24"
      },
      "source": [
        "#데이터를 읽어와서 pandas dataframe으로 저장\n",
        "import pandas as pd\n",
        "import matplotlib\n",
        "import sklearn\n",
        "\n",
        "\n",
        "df = pd.read_csv(filename, parse_dates =[\"date\"], index_col =\"date\") \n",
        "df = df.dropna()\n",
        "df.head()"
      ],
      "execution_count": null,
      "outputs": [
        {
          "output_type": "execute_result",
          "data": {
            "text/html": [
              "<div>\n",
              "<style scoped>\n",
              "    .dataframe tbody tr th:only-of-type {\n",
              "        vertical-align: middle;\n",
              "    }\n",
              "\n",
              "    .dataframe tbody tr th {\n",
              "        vertical-align: top;\n",
              "    }\n",
              "\n",
              "    .dataframe thead th {\n",
              "        text-align: right;\n",
              "    }\n",
              "</style>\n",
              "<table border=\"1\" class=\"dataframe\">\n",
              "  <thead>\n",
              "    <tr style=\"text-align: right;\">\n",
              "      <th></th>\n",
              "      <th>tradeprice_sido_n1</th>\n",
              "      <th>region_cd</th>\n",
              "      <th>tradeprice_sido</th>\n",
              "      <th>year</th>\n",
              "      <th>month</th>\n",
              "      <th>building_type</th>\n",
              "      <th>construction_realized_amount</th>\n",
              "      <th>cd</th>\n",
              "      <th>spirit_deposit_rate</th>\n",
              "      <th>exchange_rate</th>\n",
              "      <th>composite_stock_price_index</th>\n",
              "      <th>economy_growth</th>\n",
              "      <th>exchequer_bond_three</th>\n",
              "      <th>household_loan_all</th>\n",
              "      <th>mortgage_all</th>\n",
              "      <th>numberofnosells</th>\n",
              "      <th>unsalenum_c</th>\n",
              "    </tr>\n",
              "    <tr>\n",
              "      <th>date</th>\n",
              "      <th></th>\n",
              "      <th></th>\n",
              "      <th></th>\n",
              "      <th></th>\n",
              "      <th></th>\n",
              "      <th></th>\n",
              "      <th></th>\n",
              "      <th></th>\n",
              "      <th></th>\n",
              "      <th></th>\n",
              "      <th></th>\n",
              "      <th></th>\n",
              "      <th></th>\n",
              "      <th></th>\n",
              "      <th></th>\n",
              "      <th></th>\n",
              "      <th></th>\n",
              "    </tr>\n",
              "  </thead>\n",
              "  <tbody>\n",
              "    <tr>\n",
              "      <th>2010-01-01</th>\n",
              "      <td>93.4</td>\n",
              "      <td>45000</td>\n",
              "      <td>93.3</td>\n",
              "      <td>2010</td>\n",
              "      <td>1</td>\n",
              "      <td>7</td>\n",
              "      <td>6500576.0</td>\n",
              "      <td>2.88</td>\n",
              "      <td>3.93</td>\n",
              "      <td>1156.5</td>\n",
              "      <td>1682.16</td>\n",
              "      <td>2.2</td>\n",
              "      <td>4.29</td>\n",
              "      <td>548723.3</td>\n",
              "      <td>338666.3</td>\n",
              "      <td>0.0</td>\n",
              "      <td>0.0</td>\n",
              "    </tr>\n",
              "    <tr>\n",
              "      <th>2010-01-01</th>\n",
              "      <td>83.9</td>\n",
              "      <td>30000</td>\n",
              "      <td>83.1</td>\n",
              "      <td>2010</td>\n",
              "      <td>1</td>\n",
              "      <td>0</td>\n",
              "      <td>6500576.0</td>\n",
              "      <td>2.88</td>\n",
              "      <td>3.93</td>\n",
              "      <td>1156.5</td>\n",
              "      <td>1682.16</td>\n",
              "      <td>2.2</td>\n",
              "      <td>4.29</td>\n",
              "      <td>548723.3</td>\n",
              "      <td>338666.3</td>\n",
              "      <td>3042.0</td>\n",
              "      <td>323.0</td>\n",
              "    </tr>\n",
              "    <tr>\n",
              "      <th>2010-01-01</th>\n",
              "      <td>92.7</td>\n",
              "      <td>30000</td>\n",
              "      <td>92.3</td>\n",
              "      <td>2010</td>\n",
              "      <td>1</td>\n",
              "      <td>7</td>\n",
              "      <td>6500576.0</td>\n",
              "      <td>2.88</td>\n",
              "      <td>3.93</td>\n",
              "      <td>1156.5</td>\n",
              "      <td>1682.16</td>\n",
              "      <td>2.2</td>\n",
              "      <td>4.29</td>\n",
              "      <td>548723.3</td>\n",
              "      <td>338666.3</td>\n",
              "      <td>3042.0</td>\n",
              "      <td>323.0</td>\n",
              "    </tr>\n",
              "    <tr>\n",
              "      <th>2010-01-01</th>\n",
              "      <td>80.8</td>\n",
              "      <td>30000</td>\n",
              "      <td>79.7</td>\n",
              "      <td>2010</td>\n",
              "      <td>1</td>\n",
              "      <td>1</td>\n",
              "      <td>6500576.0</td>\n",
              "      <td>2.88</td>\n",
              "      <td>3.93</td>\n",
              "      <td>1156.5</td>\n",
              "      <td>1682.16</td>\n",
              "      <td>2.2</td>\n",
              "      <td>4.29</td>\n",
              "      <td>548723.3</td>\n",
              "      <td>338666.3</td>\n",
              "      <td>3042.0</td>\n",
              "      <td>323.0</td>\n",
              "    </tr>\n",
              "    <tr>\n",
              "      <th>2010-01-01</th>\n",
              "      <td>81.8</td>\n",
              "      <td>30000</td>\n",
              "      <td>81.8</td>\n",
              "      <td>2010</td>\n",
              "      <td>1</td>\n",
              "      <td>3</td>\n",
              "      <td>6500576.0</td>\n",
              "      <td>2.88</td>\n",
              "      <td>3.93</td>\n",
              "      <td>1156.5</td>\n",
              "      <td>1682.16</td>\n",
              "      <td>2.2</td>\n",
              "      <td>4.29</td>\n",
              "      <td>548723.3</td>\n",
              "      <td>338666.3</td>\n",
              "      <td>3042.0</td>\n",
              "      <td>323.0</td>\n",
              "    </tr>\n",
              "  </tbody>\n",
              "</table>\n",
              "</div>"
            ],
            "text/plain": [
              "            tradeprice_sido_n1  region_cd  ...  numberofnosells  unsalenum_c\n",
              "date                                       ...                              \n",
              "2010-01-01                93.4      45000  ...              0.0          0.0\n",
              "2010-01-01                83.9      30000  ...           3042.0        323.0\n",
              "2010-01-01                92.7      30000  ...           3042.0        323.0\n",
              "2010-01-01                80.8      30000  ...           3042.0        323.0\n",
              "2010-01-01                81.8      30000  ...           3042.0        323.0\n",
              "\n",
              "[5 rows x 17 columns]"
            ]
          },
          "metadata": {},
          "execution_count": 31
        }
      ]
    },
    {
      "cell_type": "code",
      "metadata": {
        "colab": {
          "base_uri": "https://localhost:8080/"
        },
        "id": "7vO3xnHIn5gj",
        "outputId": "1b9ec79c-993b-4a4d-e694-c69a5381fcfb"
      },
      "source": [
        "#dropna 함수로 속성에 빈 값이 있는 데이터는 실험에서 제거\n",
        "train = df[(df.year > 2006) & (df.year < 2017)]\n",
        "test = df[df.year >= 2017]\n",
        "\n",
        "\n",
        "\n",
        "feature_names = ['region_cd', 'year', 'month', 'building_type',\n",
        "                 'tradeprice_sido', 'construction_realized_amount','cd',\n",
        "                 'spirit_deposit_rate','exchange_rate','composite_stock_price_index',\n",
        "                 'economy_growth','exchequer_bond_three','household_loan_all',\n",
        "                 'mortgage_all','numberofnosells','unsalenum_c']\n",
        "\n",
        "\n",
        "\n",
        "X_train = train[feature_names]\n",
        "X_test = test[feature_names]\n",
        "\n",
        "lable_name = \"tradeprice_sido_n1\"\n",
        "Y_train = train[lable_name]\n",
        "\n",
        "Y_test = test[lable_name]\n",
        "\n",
        "\n",
        "print(X_train.shape)\n",
        "print(X_test.shape)"
      ],
      "execution_count": null,
      "outputs": [
        {
          "output_type": "stream",
          "name": "stdout",
          "text": [
            "(5560, 16)\n",
            "(992, 16)\n"
          ]
        }
      ]
    },
    {
      "cell_type": "code",
      "metadata": {
        "colab": {
          "base_uri": "https://localhost:8080/"
        },
        "id": "ircotx3Tn9IV",
        "outputId": "dff4b6af-b88b-4995-8c78-1409af005f1e"
      },
      "source": [
        "#fit_intercept는 y 절편을 계산할지에 대한 설정\n",
        "#normalize는 regressors X를 정규화 시킬 것인지에 대한 옵션\n",
        "#n_jobs 는 모델 계산에 사용될 작업 개수를 의미\n",
        "#데이터 개수가 작아 None으로 설정\n",
        "from sklearn.linear_model import LinearRegression\n",
        "\n",
        "\n",
        "lm = LinearRegression(fit_intercept=True, normalize=True, n_jobs=None)\n",
        "lm.fit(X_train, Y_train)\n",
        "accuracy = lm.score(X_test, Y_test)\n",
        "print ('Linear Regression test file accuracy:'+ str(accuracy))\n",
        "\n",
        "lm.coef_"
      ],
      "execution_count": null,
      "outputs": [
        {
          "output_type": "stream",
          "name": "stdout",
          "text": [
            "Linear Regression test file accuracy:0.796032793305405\n"
          ]
        },
        {
          "output_type": "stream",
          "name": "stderr",
          "text": [
            "/usr/local/lib/python3.7/dist-packages/sklearn/linear_model/_base.py:145: FutureWarning: 'normalize' was deprecated in version 1.0 and will be removed in 1.2.\n",
            "If you wish to scale the data, use Pipeline with a StandardScaler in a preprocessing stage. To reproduce the previous behavior:\n",
            "\n",
            "from sklearn.pipeline import make_pipeline\n",
            "\n",
            "model = make_pipeline(StandardScaler(with_mean=False), LinearRegression())\n",
            "\n",
            "If you wish to pass a sample_weight parameter, you need to pass it as a fit parameter to each step of the pipeline as follows:\n",
            "\n",
            "kwargs = {s[0] + '__sample_weight': sample_weight for s in model.steps}\n",
            "model.fit(X, y, **kwargs)\n",
            "\n",
            "\n",
            "  FutureWarning,\n"
          ]
        },
        {
          "output_type": "execute_result",
          "data": {
            "text/plain": [
              "array([ 3.51896797e-06, -1.71715684e-01, -5.85130446e-03, -1.48964006e-02,\n",
              "        9.79620046e-01, -1.94257889e-08,  3.17369529e-01, -2.01082058e-01,\n",
              "        1.47889144e-04,  1.00122036e-03,  2.30943196e-01,  2.53803737e-02,\n",
              "       -3.12292845e-06,  1.23915308e-05, -1.68226873e-05, -7.31652503e-06])"
            ]
          },
          "metadata": {},
          "execution_count": 43
        }
      ]
    },
    {
      "cell_type": "code",
      "metadata": {
        "colab": {
          "base_uri": "https://localhost:8080/",
          "height": 661
        },
        "id": "uf11U3kzokGY",
        "outputId": "c688e5c7-6868-4b56-be79-9abb1539ac8e"
      },
      "source": [
        "#한글 속성 이름으로 변경하고 절대값이 큰 순서로 정렬해서 pandas dataframe으로 다시 확인\n",
        "X_Cols = X_train.rename(columns= {'region_cd': '지역코드(시도)', 'year': '연도', 'month':'월',  'building_type': '부동산타입',  \n",
        "                               'tradeprice_sido' : '매매가격지수(시도)', 'construction_realized_amount' : '건설기성액(백만원)', \"cd\": \"cd(91일물)\",\n",
        "                                'spirit_deposit_rate': '정기예금금리', 'exchange_rate': '환율', 'composite_stock_price_index': '종합주가지수',\n",
        "                               'economy_growth': '경제성장률','exchequer_bond_three' : '국고채3년','household_loan_all': '가계대출액(전국)',\n",
        "                               'mortgage_all' : '주택대출액(전국)', 'numberofnosells':'미분양 가구수(시도)','unsalenum_c':'공사완료후 미분양(민간,시도)' })\n",
        "\n",
        "print(X_train.columns)\n",
        "coefs = pd.DataFrame(zip(X_Cols.columns,lm.coef_), columns = ['features', 'coefficients'])\n",
        "\n",
        "\n",
        "coefs.reindex(coefs.coefficients.abs().sort_values(ascending=False).index)"
      ],
      "execution_count": null,
      "outputs": [
        {
          "output_type": "stream",
          "name": "stdout",
          "text": [
            "Index(['region_cd', 'year', 'month', 'building_type', 'tradeprice_sido',\n",
            "       'construction_realized_amount', 'cd', 'spirit_deposit_rate',\n",
            "       'exchange_rate', 'composite_stock_price_index', 'economy_growth',\n",
            "       'exchequer_bond_three', 'household_loan_all', 'mortgage_all',\n",
            "       'numberofnosells', 'unsalenum_c'],\n",
            "      dtype='object')\n"
          ]
        },
        {
          "output_type": "execute_result",
          "data": {
            "text/html": [
              "<div>\n",
              "<style scoped>\n",
              "    .dataframe tbody tr th:only-of-type {\n",
              "        vertical-align: middle;\n",
              "    }\n",
              "\n",
              "    .dataframe tbody tr th {\n",
              "        vertical-align: top;\n",
              "    }\n",
              "\n",
              "    .dataframe thead th {\n",
              "        text-align: right;\n",
              "    }\n",
              "</style>\n",
              "<table border=\"1\" class=\"dataframe\">\n",
              "  <thead>\n",
              "    <tr style=\"text-align: right;\">\n",
              "      <th></th>\n",
              "      <th>features</th>\n",
              "      <th>coefficients</th>\n",
              "    </tr>\n",
              "  </thead>\n",
              "  <tbody>\n",
              "    <tr>\n",
              "      <th>4</th>\n",
              "      <td>매매가격지수(시도)</td>\n",
              "      <td>9.796200e-01</td>\n",
              "    </tr>\n",
              "    <tr>\n",
              "      <th>6</th>\n",
              "      <td>cd(91일물)</td>\n",
              "      <td>3.173695e-01</td>\n",
              "    </tr>\n",
              "    <tr>\n",
              "      <th>10</th>\n",
              "      <td>경제성장률</td>\n",
              "      <td>2.309432e-01</td>\n",
              "    </tr>\n",
              "    <tr>\n",
              "      <th>7</th>\n",
              "      <td>정기예금금리</td>\n",
              "      <td>-2.010821e-01</td>\n",
              "    </tr>\n",
              "    <tr>\n",
              "      <th>1</th>\n",
              "      <td>연도</td>\n",
              "      <td>-1.717157e-01</td>\n",
              "    </tr>\n",
              "    <tr>\n",
              "      <th>11</th>\n",
              "      <td>국고채3년</td>\n",
              "      <td>2.538037e-02</td>\n",
              "    </tr>\n",
              "    <tr>\n",
              "      <th>3</th>\n",
              "      <td>부동산타입</td>\n",
              "      <td>-1.489640e-02</td>\n",
              "    </tr>\n",
              "    <tr>\n",
              "      <th>2</th>\n",
              "      <td>월</td>\n",
              "      <td>-5.851304e-03</td>\n",
              "    </tr>\n",
              "    <tr>\n",
              "      <th>9</th>\n",
              "      <td>종합주가지수</td>\n",
              "      <td>1.001220e-03</td>\n",
              "    </tr>\n",
              "    <tr>\n",
              "      <th>8</th>\n",
              "      <td>환율</td>\n",
              "      <td>1.478891e-04</td>\n",
              "    </tr>\n",
              "    <tr>\n",
              "      <th>14</th>\n",
              "      <td>미분양 가구수(시도)</td>\n",
              "      <td>-1.682269e-05</td>\n",
              "    </tr>\n",
              "    <tr>\n",
              "      <th>13</th>\n",
              "      <td>주택대출액(전국)</td>\n",
              "      <td>1.239153e-05</td>\n",
              "    </tr>\n",
              "    <tr>\n",
              "      <th>15</th>\n",
              "      <td>공사완료후 미분양(민간,시도)</td>\n",
              "      <td>-7.316525e-06</td>\n",
              "    </tr>\n",
              "    <tr>\n",
              "      <th>0</th>\n",
              "      <td>지역코드(시도)</td>\n",
              "      <td>3.518968e-06</td>\n",
              "    </tr>\n",
              "    <tr>\n",
              "      <th>12</th>\n",
              "      <td>가계대출액(전국)</td>\n",
              "      <td>-3.122928e-06</td>\n",
              "    </tr>\n",
              "    <tr>\n",
              "      <th>5</th>\n",
              "      <td>건설기성액(백만원)</td>\n",
              "      <td>-1.942579e-08</td>\n",
              "    </tr>\n",
              "  </tbody>\n",
              "</table>\n",
              "</div>"
            ],
            "text/plain": [
              "            features  coefficients\n",
              "4         매매가격지수(시도)  9.796200e-01\n",
              "6           cd(91일물)  3.173695e-01\n",
              "10             경제성장률  2.309432e-01\n",
              "7             정기예금금리 -2.010821e-01\n",
              "1                 연도 -1.717157e-01\n",
              "11             국고채3년  2.538037e-02\n",
              "3              부동산타입 -1.489640e-02\n",
              "2                  월 -5.851304e-03\n",
              "9             종합주가지수  1.001220e-03\n",
              "8                 환율  1.478891e-04\n",
              "14       미분양 가구수(시도) -1.682269e-05\n",
              "13         주택대출액(전국)  1.239153e-05\n",
              "15  공사완료후 미분양(민간,시도) -7.316525e-06\n",
              "0           지역코드(시도)  3.518968e-06\n",
              "12         가계대출액(전국) -3.122928e-06\n",
              "5         건설기성액(백만원) -1.942579e-08"
            ]
          },
          "metadata": {},
          "execution_count": 44
        }
      ]
    },
    {
      "cell_type": "code",
      "metadata": {
        "colab": {
          "base_uri": "https://localhost:8080/",
          "height": 324
        },
        "id": "ZgoJfVojoncQ",
        "outputId": "859d9d98-95f1-405f-e489-4e41867d2eeb"
      },
      "source": [
        "#테스트셋의 실제 값을 x축으로 예측 값을 y축으로 그래프를 그리기\n",
        "%matplotlib inline\n",
        "import matplotlib.pyplot as plt\n",
        "\n",
        "\n",
        "Y_pred = lm.predict(X_test)\n",
        "\n",
        "plt.scatter(Y_test, Y_pred)\n",
        "plt.xlabel(\"Price Index: $Y_i$\")\n",
        "plt.ylabel(\"Predicted price Index: $\\hat{Y}_i$\")\n",
        "plt.title(\"Prices vs Predicted price Index: $Y_i$ vs $\\hat{Y}_i$\")"
      ],
      "execution_count": null,
      "outputs": [
        {
          "output_type": "execute_result",
          "data": {
            "text/plain": [
              "Text(0.5, 1.0, 'Prices vs Predicted price Index: $Y_i$ vs $\\\\hat{Y}_i$')"
            ]
          },
          "metadata": {},
          "execution_count": 45
        },
        {
          "output_type": "display_data",
          "data": {
            "image/png": "[encoded data removed]",
            "text/plain": [
              "<Figure size 432x288 with 1 Axes>"
            ]
          },
          "metadata": {
            "needs_background": "light"
          }
        }
      ]
    }
  ]
}