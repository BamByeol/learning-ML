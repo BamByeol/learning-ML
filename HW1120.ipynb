{
  "nbformat": 4,
  "nbformat_minor": 0,
  "metadata": {
    "colab": {
      "name": "HW1120.ipynb",
      "private_outputs": true,
      "provenance": [],
      "authorship_tag": "ABX9TyP9gk4y5MF4U/Zui5fnNEIU",
      "include_colab_link": true
    },
    "kernelspec": {
      "name": "python3",
      "display_name": "Python 3"
    },
    "language_info": {
      "name": "python"
    }
  },
  "cells": [
    {
      "cell_type": "markdown",
      "metadata": {
        "id": "view-in-github",
        "colab_type": "text"
      },
      "source": [
        "<a href=\"https://colab.research.google.com/github/BamByeol/learning-ML/blob/HW1120/HW1120.ipynb\" target=\"_parent\"><img src=\"https://colab.research.google.com/assets/colab-badge.svg\" alt=\"Open In Colab\"/></a>"
      ]
    },
    {
      "cell_type": "code",
      "metadata": {
        "id": "R5ORQOkRXSg7"
      },
      "source": [
        "#사용할 library & Data Import\n",
        "%matplotlib inline\n",
        "\n",
        "import pandas as pd\n",
        "import numpy as np\n",
        "import matplotlib.pyplot as plt\n",
        "import seaborn as sns\n",
        "\n",
        "import warnings\n",
        "warnings.filterwarnings('ignore')"
      ],
      "execution_count": null,
      "outputs": []
    },
    {
      "cell_type": "code",
      "metadata": {
        "id": "6t-jJlAfXlvp"
      },
      "source": [
        "#사용할 데이터 셋 (Boston Housing Dataset)\n",
        "df = pd.read_csv(\"https://raw.githubusercontent.com/yoonkt200/FastCampusDataset/master/BostonHousing2.csv\")\n",
        "df.head()"
      ],
      "execution_count": null,
      "outputs": []
    },
    {
      "cell_type": "code",
      "metadata": {
        "id": "--BovNUGXuFz"
      },
      "source": [
        "#2.데이터 파악(EDA : 탐색적 데이터 분석)\n",
        "#그래프 배경 설정\n",
        "sns.set_style('darkgrid')\n",
        "\n",
        "#2-1 데이터 셋 기본 정보 파악\n",
        "\n",
        "#데이터 셋의 기본정보\n",
        "df.shape\n",
        "#결측치\n",
        "df.isnull().sum()\n",
        "#각 변수의 타입 및 기초 통계량 확인\n",
        "df.info()\n",
        "#numerical variable\n",
        "df.describe()\n",
        "#categorical variable\n",
        "num_town = df['TOWN'].unique()\n",
        "print(len(num_town))\n",
        "num_town"
      ],
      "execution_count": null,
      "outputs": []
    },
    {
      "cell_type": "code",
      "metadata": {
        "id": "7AqQSYoPhovS"
      },
      "source": [
        "#2-2 종속변수(목표변수) 탐색\n",
        "#기초 통계량\n",
        "df['CMEDV'].describe()\n",
        "#분포\n",
        "df['CMEDV'].hist(bins=50)\n"
      ],
      "execution_count": null,
      "outputs": []
    },
    {
      "cell_type": "code",
      "metadata": {
        "id": "Vcp0hSelh3xu"
      },
      "source": [
        "#boxplot - Pandas\n",
        "df.boxplot(column=['CMEDV'])\n",
        "plt.show()"
      ],
      "execution_count": null,
      "outputs": []
    },
    {
      "cell_type": "code",
      "metadata": {
        "id": "qbGIJe45rirV"
      },
      "source": [
        "#boxlot - matplotlib\n",
        "plt.boxplot(df['CMEDV'])\n",
        "plt.show()"
      ],
      "execution_count": null,
      "outputs": []
    },
    {
      "cell_type": "code",
      "metadata": {
        "id": "h43f0wUnrx5J"
      },
      "source": [
        "#2-3 설명변수 탐색\n",
        "#설명변수의 분포 탐색\n",
        "# numerical features (except \"LON\" & \"LAT\")\n",
        "numerical_columns = ['CRIM', 'ZN', 'INDUS', 'CHAS', 'NOX', 'RM', 'AGE', 'DIS', 'RAD', 'TAX', 'PTRATIO', 'B', 'LSTAT']\n",
        "\n",
        "fig = plt.figure(figsize = (16, 20))\n",
        "ax = fig.gca()  # Axes 생성\n",
        "\n",
        "df[numerical_columns].hist(ax=ax)\n",
        "plt.show()"
      ],
      "execution_count": null,
      "outputs": []
    },
    {
      "cell_type": "code",
      "metadata": {
        "id": "PRjWG_YSr9tk"
      },
      "source": [
        "#2-4 설명변수와 종속변수 간의 관계탐색\n",
        "#변수 간의 상관계수 파악\n",
        "# Person 상관계수\n",
        "cols = ['CMEDV', 'CRIM', 'ZN', 'INDUS', 'CHAS', 'NOX', 'RM', 'AGE', 'DIS', 'RAD', 'TAX', 'PTRATIO', 'B', 'LSTAT']\n",
        "\n",
        "corr = df[cols].corr(method = 'pearson')\n",
        "corr"
      ],
      "execution_count": null,
      "outputs": []
    },
    {
      "cell_type": "code",
      "metadata": {
        "id": "5ZfkBH1VsJgJ"
      },
      "source": [
        "# 상관계수를 좀 더 직관적인 heatmap으로 표현\n",
        "# heatmap (seaborn)\n",
        "fig = plt.figure(figsize = (16, 12))\n",
        "ax = fig.gca()\n",
        "\n",
        "sns.set(font_scale = 1.5)  # heatmap 안의 font-size 설정\n",
        "heatmap = sns.heatmap(corr.values, annot = True, fmt='.2f', annot_kws={'size':15},\n",
        "                      yticklabels = cols, xticklabels = cols, ax=ax, cmap = \"RdYlBu\")\n",
        "plt.tight_layout()\n",
        "plt.show()"
      ],
      "execution_count": null,
      "outputs": []
    },
    {
      "cell_type": "code",
      "metadata": {
        "id": "CGcXYh83sT1D"
      },
      "source": [
        "#종속변수와 설명 변수간의 관계 탐색\n",
        "#주택가격('CMEDV') ~ 방 갯수 (\"RM\")\n",
        "# scatter plot\n",
        "sns.scatterplot(data=df, x='RM', y='CMEDV', markers='o', color='blue', alpha=0.6)\n",
        "plt.title('Scatter Plot')\n",
        "plt.show()"
      ],
      "execution_count": null,
      "outputs": []
    },
    {
      "cell_type": "code",
      "metadata": {
        "id": "UXHL9ZZLslFd"
      },
      "source": [
        "#주택가격(\"CMEDV\") ~ 빈곤층의 비율(\"LSTAT\")\n",
        "# scatter plot\n",
        "sns.scatterplot(data=df, x='LSTAT', y='CMEDV', markers='o', color='blue', alpha=0.6)\n",
        "plt.title('Scatter Plot')\n",
        "plt.show()"
      ],
      "execution_count": null,
      "outputs": []
    },
    {
      "cell_type": "code",
      "metadata": {
        "id": "OiPSUKgvsy7o"
      },
      "source": [
        "#도시별 차이 탐색\n",
        "\n",
        "#도시별 데이터 갯수\n",
        "df['TOWN'].value_counts()\n",
        "\n",
        "#도시별 데이터 갯수 (bar plot)\n",
        "df['TOWN'].value_counts().hist(bins=50)\n",
        "\n",
        "#도시별 주택 가격 특징 (boxplot 이용)\n",
        "fig = plt.figure(figsize = (12, 20))\n",
        "sns.boxplot(x='CMEDV', y='TOWN', data=df)\n",
        "\n",
        "#도시별 범죄율 특징\n",
        "fig = plt.figure(figsize = (12, 20))\n",
        "sns.boxplot(x='CRIM', y='TOWN', data=df)"
      ],
      "execution_count": null,
      "outputs": []
    },
    {
      "cell_type": "code",
      "metadata": {
        "id": "Unf0XQlLt1Aq"
      },
      "source": [
        "# 3.주택가격 에측 모델링 : 회귀분석\n",
        "#데이터 전처리\n",
        "#Feature 표준화 (scale 차이를 없애기 위해 수치형 Feature에 대해서 표준화를 진행)\n",
        "df.head()\n",
        "df.info()\n"
      ],
      "execution_count": null,
      "outputs": []
    },
    {
      "cell_type": "code",
      "metadata": {
        "id": "rSZPgJIFuKM2"
      },
      "source": [
        "# 문자형 변수인 'TOWN'와 범주형 변수인 'CHAS'(Dummy variable)를 제와하여 모든 수치형 변수에 대해 표준화를 진행\n",
        "from sklearn.preprocessing import StandardScaler\n",
        "\n",
        "# feature standardization  (numerical_columns except dummy var.-\"CHAS\")\n",
        "scaler = StandardScaler()  # 평균 0, 표준편차 1\n",
        "scale_columns = ['CRIM', 'ZN', 'INDUS', 'NOX', 'RM', 'AGE', 'DIS', 'RAD', 'TAX', 'PTRATIO', 'B', 'LSTAT']\n",
        "df[scale_columns] = scaler.fit_transform(df[scale_columns])\n",
        "\n",
        "df.head()"
      ],
      "execution_count": null,
      "outputs": []
    },
    {
      "cell_type": "code",
      "metadata": {
        "id": "e5X--aZBucsS"
      },
      "source": [
        "#training set / test set 나누기\n",
        "# features for linear regression model\n",
        "df[numerical_columns].head()\n",
        "\n",
        "from sklearn.model_selection import train_test_split\n",
        "\n",
        "# split dataset into training & test\n",
        "X = df[numerical_columns]\n",
        "y = df['CMEDV']\n",
        "X_train, X_test, y_train, y_test = train_test_split(X, y, test_size=0.2, random_state=1)\n",
        "\n",
        "#X_train.shape, Y_train.shape\n",
        "#((404, 13)), (404,))\n",
        "\n",
        "#X_test.shape, Y_test,shape\n",
        "#((102, 13)), (102,))"
      ],
      "execution_count": null,
      "outputs": []
    },
    {
      "cell_type": "code",
      "metadata": {
        "id": "Tq_7WomDvHEA"
      },
      "source": [
        "#다중공선성의 존재여부 확인\n",
        "# 보통 VIF 값을 확인, VIF >10인 feature 들은 다른 변수와의 상관관계가 높아 다중공선성이 존재하는 것으로 판단\n",
        "from statsmodels.stats.outliers_influence import variance_inflation_factor\n",
        "\n",
        "vif = pd.DataFrame()\n",
        "vif['features'] = X_train.columns\n",
        "vif[\"VIF Factor\"] = [variance_inflation_factor(X_train.values, i) for i in range(X_train.shape[1])]\n",
        "vif.round(1)"
      ],
      "execution_count": null,
      "outputs": []
    },
    {
      "cell_type": "code",
      "metadata": {
        "id": "7DVk_iSdvhzp"
      },
      "source": [
        "#3-2 회귀 모델링\n",
        "#training set에서 선형회귀예측모델을 학습, 도출될 모델을 test set에 적용행 주택가격 ('CMEDV')를 에측\n",
        "\n",
        "from sklearn import linear_model\n",
        "\n",
        "# fit regression model in training set\n",
        "lr = linear_model.LinearRegression()\n",
        "model = lr.fit(X_train, y_train)\n",
        "\n",
        "# predict in test set\n",
        "pred_test = lr.predict(X_test)"
      ],
      "execution_count": null,
      "outputs": []
    },
    {
      "cell_type": "code",
      "metadata": {
        "id": "J8Upo6o5v_rI"
      },
      "source": [
        "#3-3 모델 해석\n",
        "\n",
        "#각 feature의 회귀 계수확인\n",
        "# print coef\n",
        "print(lr.coef_)\n",
        "\n",
        "# \"feature - coefficients\" DataFrame 만들기\n",
        "coefs = pd.DataFrame(zip(df[numerical_columns].columns, lr.coef_), columns = ['feature', 'coefficients'])\n",
        "coefs\n",
        "\n",
        "#크기 순서로 나열\n",
        "coefs_new = coefs.reindex(coefs.coefficients.abs().sort_values(ascending=False).index)\n",
        "coefs_new"
      ],
      "execution_count": null,
      "outputs": []
    },
    {
      "cell_type": "code",
      "metadata": {
        "id": "rp7dOBwXwUDO"
      },
      "source": [
        "## coefficients 시각화\n",
        "\n",
        "# figure size\n",
        "plt.figure(figsize = (8, 8))\n",
        "\n",
        "# bar plot\n",
        "plt.barh(coefs_new['feature'], coefs_new['coefficients'])\n",
        "plt.title('\"feature - coefficient\" Graph')\n",
        "plt.xlabel('coefficients')\n",
        "plt.ylabel('features')\n",
        "plt.show()"
      ],
      "execution_count": null,
      "outputs": []
    },
    {
      "cell_type": "code",
      "metadata": {
        "id": "K5CNd2i-wYxz"
      },
      "source": [
        "#feature 유의성 검정\n",
        "import statsmodels.api as sm\n",
        "\n",
        "X_train2 = sm.add_constant(X_train)\n",
        "model2 = sm.OLS(y_train, X_train2).fit()\n",
        "model2.summary()"
      ],
      "execution_count": null,
      "outputs": []
    },
    {
      "cell_type": "code",
      "metadata": {
        "id": "wzwV9tijwgEa"
      },
      "source": [
        "#3-4 모델 예측 결과 및 성능 평가\n",
        "\n",
        "# 예측 결과 시각화 (test set)\n",
        "df = pd.DataFrame({'actual': y_test, 'prediction': pred_test})\n",
        "df = df.sort_values(by='actual').reset_index(drop=True)\n",
        "\n",
        "plt.figure(figsize=(12, 9))\n",
        "plt.scatter(df.index, df['prediction'], marker='x', color='r')\n",
        "plt.scatter(df.index, df['actual'], alpha=0.7, marker='o', color='black')\n",
        "plt.title(\"Prediction Result in Test Set\", fontsize=20)\n",
        "plt.legend(['prediction', 'actual'], fontsize=12)\n",
        "plt.show()"
      ],
      "execution_count": null,
      "outputs": []
    },
    {
      "cell_type": "code",
      "metadata": {
        "id": "5ywGdS0Ow6Nm"
      },
      "source": [
        "#모델 성능 평가\n",
        "\n",
        "# R square\n",
        "print(model.score(X_train, y_train))  # training set\n",
        "print(model.score(X_test, y_test))  # test set\n",
        "\n",
        "print('-----------------------------------------------------')\n",
        "\n",
        "\n",
        "# RMSE\n",
        "from sklearn.metrics import mean_squared_error\n",
        "from math import sqrt\n",
        "\n",
        "# training set\n",
        "pred_train = lr.predict(X_train)\n",
        "print(sqrt(mean_squared_error(y_train, pred_train)))\n",
        "\n",
        "# test set\n",
        "print(sqrt(mean_squared_error(y_test, pred_test)))\n",
        "\n",
        "# all rigth reserved (https://hyemin-kim.github.io/2020/08/11/E-Python-LinearRegression-1/)"
      ],
      "execution_count": null,
      "outputs": []
    }
  ]
}