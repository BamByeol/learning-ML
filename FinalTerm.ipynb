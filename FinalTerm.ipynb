{
  "nbformat": 4,
  "nbformat_minor": 0,
  "metadata": {
    "colab": {
      "private_outputs": true,
      "provenance": [],
      "mount_file_id": "1hEs-LJwbrWqw2yhyWKk4VG11X0rSlkvI",
      "authorship_tag": "ABX9TyN3j0u8MtL0KVKe5fNqnKEm",
      "include_colab_link": true
    },
    "kernelspec": {
      "name": "python3",
      "display_name": "Python 3"
    },
    "language_info": {
      "name": "python"
    }
  },
  "cells": [
    {
      "cell_type": "markdown",
      "metadata": {
        "id": "view-in-github",
        "colab_type": "text"
      },
      "source": [
        "<a href=\"https://colab.research.google.com/github/BamByeol/learning-ML/blob/main/FinalTerm.ipynb\" target=\"_parent\"><img src=\"https://colab.research.google.com/assets/colab-badge.svg\" alt=\"Open In Colab\"/></a>"
      ]
    },
    {
      "cell_type": "code",
      "execution_count": null,
      "metadata": {
        "id": "5kfadBBd87QS"
      },
      "outputs": [],
      "source": [
        "import pandas as pd\n",
        "import matplotlib.pyplot as plt\n",
        "import numpy as np\n",
        "\n",
        "#csv 파일 불러오기 : star type을 예측하는 star dataset\n",
        "#자료출처 ( https://www.kaggle.com/datasets/deepu1109/star-dataset?resource=download )\n",
        "\n",
        "df = pd.read_csv('/content/drive/MyDrive/6 class csv.csv')\n",
        "df.head()\n",
        "df.info()"
      ]
    },
    {
      "cell_type": "code",
      "source": [
        "#데이터 전저리\n",
        "#df['Spectral Class'] = df['Spectral Class'].astype(int)\n",
        "#df['Star color'].value_counts()\n",
        "\n",
        "#star color dtype 전처리 : RED -> 0 / BLUE -> 1 / Others -> 2\n",
        "\n",
        "#print(df)\n",
        "#df.replace({'col_1':{1:100},'col_2':{2:200}})\n",
        "\n",
        "#df['Star color'].replace({0:'Red', 1:'Blue', 2:''},inplace=True)\n",
        "\n",
        "\n",
        "#df.dtypes\n",
        "df['Spectral Class'].value_counts()\n",
        "\n",
        "df.drop('Spectral Class', axis=1, inplace= True)\n",
        "\n",
        "#df['Star color'].replace('Red',0,inplace=True)\n",
        "#df['Star color'].replace('Blue',1,inplace=True)\n",
        "#df['Star color'].replace('Red',0,inplace=True)\n",
        "#df['Star color'].replace('Blue',1,inplace=True)\n",
        "\n",
        "#Idx = df[df['Star color'] != 'Red'].index\n",
        "#df.drop(Idx , inplace=True)\n",
        "\n",
        "#Idx2 = df[df['Star color'] != 'Blue'].index\n",
        "#df.drop(Idx2 , inplace=True)\n",
        "\n",
        "#def color():\n",
        "#    if 'Star type' != 'Red':\n",
        "#        Idx = df[df['Star color'] != 'Red'].index\n",
        "#        df.drop(Idx , inplace=True)\n",
        "\n",
        "#    elif 'Star type' != 'Blue':\n",
        "#        Idx2 = df[df['Star color'] != 'Blue'].index\n",
        "#        df.drop(Idx2 , inplace=True)         \n",
        "\n",
        "    #elif 'Star type' == 'Red' or 'Star type' == 'Blue':\n",
        "        #df['Star color'].replace('Red',0,inplace=True)\n",
        "        #df['Star color'].replace('Blue',1,inplace=True)\n",
        "\n",
        "\n",
        "#color()\n",
        "\n",
        "\n",
        "#df['Star color'].value_counts()\n",
        "\n",
        "#df['Star color'] = df['Star color'].astype('int')\n",
        "\n",
        "#df.info()"
      ],
      "metadata": {
        "id": "K8BkV7XZME_y"
      },
      "execution_count": null,
      "outputs": []
    },
    {
      "cell_type": "code",
      "source": [
        "df.info()"
      ],
      "metadata": {
        "id": "0-lAxLGbbrAq"
      },
      "execution_count": null,
      "outputs": []
    },
    {
      "cell_type": "code",
      "source": [
        "# XGBoost\n",
        "\n",
        "from sklearn.model_selection import train_test_split\n",
        "\n",
        "y_target = df['Star type']\n",
        "X_features = df.drop(['Star type'], axis=1, inplace=False)\n",
        "X_train, X_test, y_train, y_test = train_test_split(X_features, y_target, random_state=10, test_size = 0.2)\n",
        "\n",
        "\n",
        "from xgboost import XGBClassifier\n",
        "from sklearn.metrics import roc_auc_score, f1_score\n",
        "from sklearn.metrics import accuracy_score\n",
        "from sklearn.metrics import mean_squared_error\n",
        "\n",
        "def evaluate(y_test, y_hat, y_prob):\n",
        "    print(accuracy_score(y_test, y_hat))\n",
        "#    print(mean_squared_error(y_test, y_prob))\n",
        "#    print(f1_score(y_test, y_hat, average='samples'))\n",
        "#    print(roc_auc_score(y_test,y_prob))\n",
        "\n",
        "xgb = XGBClassifier(n_estimators = 600, learning_rate=0.02)\n",
        "xgb.fit(X_train,y_train,early_stopping_rounds=300, eval_metric='mlogloss', eval_set=[(X_train, y_train),(X_test,y_test)])\n",
        "y_hat = xgb.predict(X_test)\n",
        "y_prob = xgb.predict_proba(X_test)[:,1]\n",
        "\n",
        "#oc_score = roc_auc_score(y_test, y_prob, multi_class='ovo')\n",
        "evaluate(y_test,y_hat,y_prob)\n",
        "#mse = mean_squared_error(y_true, y_pred) \n",
        "#print(roc_score)\n",
        "#print(accuracy_score(y_test, y_hat))\n",
        "\n",
        "\n",
        "from xgboost import plot_importance\n",
        "import matplotlib.pyplot as plt\n",
        "\n",
        "fig, ax = plt.subplots(1,1,figsize=(10,8))\n",
        "plot_importance(xgb, ax=ax, max_num_features=20, height=0.4)"
      ],
      "metadata": {
        "id": "unQesM57dPNx"
      },
      "execution_count": null,
      "outputs": []
    },
    {
      "cell_type": "code",
      "source": [
        "#random forest\n",
        "\n",
        "from sklearn.ensemble import RandomForestClassifier\n",
        "\n",
        "clf = RandomForestClassifier(random_state=10)\n",
        "clf.fit(X_train, y_train)\n",
        "\n",
        "features = df.drop(['Star type'], axis = 1)\n",
        "labels = df['Star type']\n",
        "from sklearn.preprocessing import StandardScaler\n",
        "\n",
        "scaler = StandardScaler()\n",
        "scaled_train_features = scaler.fit_transform(features)\n",
        "from sklearn.decomposition import PCA\n",
        "\n",
        "pca = PCA()\n",
        "pca.fit(scaled_train_features)\n",
        "pca_projection = pca.transform(scaled_train_features)\n",
        "\n",
        "\n",
        "from sklearn.model_selection import KFold\n",
        "from sklearn.model_selection import cross_val_score\n",
        "\n",
        "kf = KFold(n_splits=10)\n",
        "\n",
        "#tree = DecisionTreeClassifier()\n",
        "#logreg = LogisticRegression()\n",
        "clf = RandomForestClassifier()\n",
        "\n",
        "#tree_score = cross_val_score(tree, pca_projection, labels, cv=kf)\n",
        "#logit_score = cross_val_score(logreg, pca_projection, labels, cv=kf)\n",
        "rt_score = cross_val_score(clf,pca_projection, labels, cv=kf)\n",
        "\n",
        "# Mean of all the score arrays\n",
        "print(\"Random Forest:\",np.mean(rt_score))"
      ],
      "metadata": {
        "id": "GemRo7B-0Jhv"
      },
      "execution_count": null,
      "outputs": []
    },
    {
      "cell_type": "code",
      "source": [
        "#LightGBM\n",
        "from lightgbm import LGBMClassifier\n",
        "\n",
        "lgbm = LGBMClassifier(n_estimators=600, learning_rate=0.02)\n",
        "\n",
        "lgbm.fit(X_train, y_train, early_stopping_rounds=50, eval_set=[(X_test, y_test)])\n",
        "y_hat=lgbm.predict(X_test)\n",
        "y_prob=lgbm.predict_proba(X_test)[:1]\n",
        "\n",
        "def evaluate_lgbm(y_test, y_hat, y_prob):\n",
        "    print(accuracy_score(y_test, y_hat))\n",
        "\n",
        "evaluate_lgbm(y_test, y_hat, y_prob)"
      ],
      "metadata": {
        "id": "Cz8EbykhJa8U"
      },
      "execution_count": null,
      "outputs": []
    }
  ]
}